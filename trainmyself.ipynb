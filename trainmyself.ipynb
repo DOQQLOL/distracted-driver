{
 "cells": [
  {
   "cell_type": "code",
   "execution_count": 1,
   "metadata": {},
   "outputs": [
    {
     "name": "stderr",
     "output_type": "stream",
     "text": [
      "Using TensorFlow backend.\n"
     ]
    }
   ],
   "source": [
    "# -*- coding: utf-8 -*-\n",
    "import pandas as pd\n",
    "import os \n",
    "import glob\n",
    "\n",
    "import numpy as np\n",
    "import math\n",
    "from collections import defaultdict\n",
    "import sys\n",
    "from time import time\n",
    "import matplotlib.pyplot as plt\n",
    "import matplotlib.image as mpli\n",
    "% matplotlib inline\n",
    "import warnings\n",
    "warnings.filterwarnings(\"ignore\", module=\"matplotlib\")\n",
    "pd.options.mode.chained_assignment = None\n",
    "\n",
    "from sklearn.model_selection import train_test_split\n",
    "from sklearn.metrics import log_loss\n",
    "\n",
    "from keras.applications.vgg16 import VGG16\n",
    "from keras.applications.vgg16 import preprocess_input as VGG_preprocess\n",
    "\n",
    "from keras.applications.inception_resnet_v2 import InceptionResNetV2\n",
    "from keras.applications.inception_resnet_v2 import preprocess_input as IR_preprocess\n",
    "\n",
    "from keras.applications.inception_v3 import InceptionV3\n",
    "from keras.applications.inception_v3 import preprocess_input as IV_preprocess\n",
    "\n",
    "from keras.applications.xception import Xception\n",
    "from keras.applications.xception import preprocess_input as X_preprocess\n",
    "\n",
    "from keras.preprocessing import image\n",
    "from keras.models import Sequential, load_model, Model\n",
    "from keras.layers import Dropout, Dense, GlobalAveragePooling2D\n",
    "from keras.utils import to_categorical\n",
    "from keras.callbacks import ModelCheckpoint, EarlyStopping, History, ReduceLROnPlateau\n",
    "from keras.optimizers import Adam  \n",
    "               \n",
    "from tqdm import tqdm\n",
    "from PIL import ImageFile                            \n",
    "ImageFile.LOAD_TRUNCATED_IMAGES = True   \n",
    "\n"
   ]
  },
  {
   "cell_type": "code",
   "execution_count": null,
   "metadata": {},
   "outputs": [],
   "source": []
  },
  {
   "cell_type": "code",
   "execution_count": 2,
   "metadata": {},
   "outputs": [],
   "source": [
    "def paths_to_tensor1(img_paths,size=(299,299)):\n",
    "    # 用PIL加载RGB图像为PIL.Image.Image类型\n",
    "    list_of_tensors = []\n",
    "    for img_path in tqdm(img_paths):\n",
    "        img = image.load_img(img_path, target_size=size)\n",
    "    # 将PIL.Image.Image类型转化为格式为(224, 224, 3)的3维张量\n",
    "        x = image.img_to_array(img)\n",
    "        list_of_tensors.append(x)\n",
    "        #list_of_tensors.append(np.expand_dims(x, axis=0))\n",
    "    # 将3维张量转化为格式为(1, 224, 224, 3)的4维张量并返回\n",
    "    #return np.expand_dims(x, axis=0)\n",
    "    return np.stack(list_of_tensors, 0)\n",
    "\n",
    "def load_train_data(path, size=(299,299)):\n",
    "    X = []\n",
    "    y = []\n",
    "    for i in range(10):\n",
    "        files = glob.glob(os.path.join(path, 'c'+str(i),'*.jpg'))\n",
    "        x = paths_to_tensor1(files, size=size)\n",
    "        X.extend(x)\n",
    "        y.extend([i]*len(files)) \n",
    "    #return X, y\n",
    "    #print(len(np.stack(X, 0)),len(y))\n",
    "    return np.stack(X, 0),np.asarray(y)\n",
    "\n",
    "def image_preprocess(model_name, X):\n",
    "    if model_name == 'vgg16':\n",
    "        X = VGG_preprocess(X)\n",
    "    if model_name == 'inception_v3':\n",
    "        X = IV_preprocess(X)\n",
    "    if model_name == 'inception_resnet_v2':\n",
    "        X = IR_preprocess(X)\n",
    "    if model_name == 'xception':\n",
    "        X = X_preprocess(X)\n",
    "        \n",
    "    return X\n",
    "\n",
    "def save_model(model, cross=''):\n",
    "    json_string = model.to_json()\n",
    "    if not os.path.isdir('cache'):\n",
    "        os.mkdir('cache')\n",
    "    json_name = 'architecture_'  + cross + '.json'\n",
    "    weight_name = 'model_weights_'  + cross + '.h5'\n",
    "    open(os.path.join('cache', json_name), 'w').write(json_string)\n",
    "    model.save_weights(os.path.join('cache', weight_name), overwrite=True)\n",
    "\n",
    "def create_submission(predictions, img_names, model_name):\n",
    "    result1 = pd.DataFrame(predictions, columns=['c0', 'c1', 'c2', 'c3', 'c4', 'c5', 'c6', 'c7', 'c8', 'c9'], index = img_names)\n",
    "    result1.loc['img', :] = pd.Series(img_names, index=result1.index)\n",
    "    #now = datetime.datetime.now()\n",
    "    if not os.path.isdir('subm'):\n",
    "        os.mkdir('subm')\n",
    "    #suffix = info + '_' + str(now.strftime(\"%Y-%m-%d-%H-%M\"))\n",
    "    sub_file = os.path.join('subm',model_name + 'submission.csv') \n",
    "    result1.to_csv(sub_file, index=False)\n"
   ]
  },
  {
   "cell_type": "code",
   "execution_count": 2,
   "metadata": {},
   "outputs": [],
   "source": [
    "def create_model(b_model, n_classes = 10, set_weights = 'imagenet', locked_layers=0, input_shape=(299,299,3), include_top=False):\n",
    "    base = b_model(weights= set_weights, include_top=include_top, input_shape=input_shape)\n",
    "    fc = base.output\n",
    "    fc = GlobalAveragePooling2D()(fc)\n",
    "    fc = Dropout(0.5)(fc)\n",
    "    mypredictions = Dense(n_classes, activation='softmax', name='mypredictions')(fc)\n",
    "    model = Model(inputs=base.input, outputs=mypredictions,name = base.name)\n",
    "    model.compile(loss='categorical_crossentropy', optimizer=Adam(lr=learning_rate), metrics=['accuracy'])\n",
    "    model.summary()\n",
    "    \n",
    "    if locked_layers>len(model.layers):\n",
    "        locked_layers = len(model.layers)\n",
    "    for layer in model.layers[:locked_layers]:\n",
    "        layer.trainable = False\n",
    "    for layer in model.layers[locked_layers:]:\n",
    "        layer.trainable = True \n",
    "\n",
    "    return model\n",
    "#vgg16 xception inception_resnet_v2 inception_v3"
   ]
  },
  {
   "cell_type": "code",
   "execution_count": 6,
   "metadata": {},
   "outputs": [
    {
     "name": "stdout",
     "output_type": "stream",
     "text": [
      "_________________________________________________________________\n",
      "Layer (type)                 Output Shape              Param #   \n",
      "=================================================================\n",
      "input_1 (InputLayer)         (None, 224, 224, 3)       0         \n",
      "_________________________________________________________________\n",
      "block1_conv1 (Conv2D)        (None, 224, 224, 64)      1792      \n",
      "_________________________________________________________________\n",
      "block1_conv2 (Conv2D)        (None, 224, 224, 64)      36928     \n",
      "_________________________________________________________________\n",
      "block1_pool (MaxPooling2D)   (None, 112, 112, 64)      0         \n",
      "_________________________________________________________________\n",
      "block2_conv1 (Conv2D)        (None, 112, 112, 128)     73856     \n",
      "_________________________________________________________________\n",
      "block2_conv2 (Conv2D)        (None, 112, 112, 128)     147584    \n",
      "_________________________________________________________________\n",
      "block2_pool (MaxPooling2D)   (None, 56, 56, 128)       0         \n",
      "_________________________________________________________________\n",
      "block3_conv1 (Conv2D)        (None, 56, 56, 256)       295168    \n",
      "_________________________________________________________________\n",
      "block3_conv2 (Conv2D)        (None, 56, 56, 256)       590080    \n",
      "_________________________________________________________________\n",
      "block3_conv3 (Conv2D)        (None, 56, 56, 256)       590080    \n",
      "_________________________________________________________________\n",
      "block3_pool (MaxPooling2D)   (None, 28, 28, 256)       0         \n",
      "_________________________________________________________________\n",
      "block4_conv1 (Conv2D)        (None, 28, 28, 512)       1180160   \n",
      "_________________________________________________________________\n",
      "block4_conv2 (Conv2D)        (None, 28, 28, 512)       2359808   \n",
      "_________________________________________________________________\n",
      "block4_conv3 (Conv2D)        (None, 28, 28, 512)       2359808   \n",
      "_________________________________________________________________\n",
      "block4_pool (MaxPooling2D)   (None, 14, 14, 512)       0         \n",
      "_________________________________________________________________\n",
      "block5_conv1 (Conv2D)        (None, 14, 14, 512)       2359808   \n",
      "_________________________________________________________________\n",
      "block5_conv2 (Conv2D)        (None, 14, 14, 512)       2359808   \n",
      "_________________________________________________________________\n",
      "block5_conv3 (Conv2D)        (None, 14, 14, 512)       2359808   \n",
      "_________________________________________________________________\n",
      "block5_pool (MaxPooling2D)   (None, 7, 7, 512)         0         \n",
      "_________________________________________________________________\n",
      "global_average_pooling2d_1 ( (None, 512)               0         \n",
      "_________________________________________________________________\n",
      "dropout_1 (Dropout)          (None, 512)               0         \n",
      "_________________________________________________________________\n",
      "mypredictions (Dense)        (None, 10)                5130      \n",
      "=================================================================\n",
      "Total params: 14,719,818\n",
      "Trainable params: 14,719,818\n",
      "Non-trainable params: 0\n",
      "_________________________________________________________________\n",
      "_________________________________________________________________\n",
      "Layer (type)                 Output Shape              Param #   \n",
      "=================================================================\n",
      "input_1 (InputLayer)         (None, 224, 224, 3)       0         \n",
      "_________________________________________________________________\n",
      "block1_conv1 (Conv2D)        (None, 224, 224, 64)      1792      \n",
      "_________________________________________________________________\n",
      "block1_conv2 (Conv2D)        (None, 224, 224, 64)      36928     \n",
      "_________________________________________________________________\n",
      "block1_pool (MaxPooling2D)   (None, 112, 112, 64)      0         \n",
      "_________________________________________________________________\n",
      "block2_conv1 (Conv2D)        (None, 112, 112, 128)     73856     \n",
      "_________________________________________________________________\n",
      "block2_conv2 (Conv2D)        (None, 112, 112, 128)     147584    \n",
      "_________________________________________________________________\n",
      "block2_pool (MaxPooling2D)   (None, 56, 56, 128)       0         \n",
      "_________________________________________________________________\n",
      "block3_conv1 (Conv2D)        (None, 56, 56, 256)       295168    \n",
      "_________________________________________________________________\n",
      "block3_conv2 (Conv2D)        (None, 56, 56, 256)       590080    \n",
      "_________________________________________________________________\n",
      "block3_conv3 (Conv2D)        (None, 56, 56, 256)       590080    \n",
      "_________________________________________________________________\n",
      "block3_pool (MaxPooling2D)   (None, 28, 28, 256)       0         \n",
      "_________________________________________________________________\n",
      "block4_conv1 (Conv2D)        (None, 28, 28, 512)       1180160   \n",
      "_________________________________________________________________\n",
      "block4_conv2 (Conv2D)        (None, 28, 28, 512)       2359808   \n",
      "_________________________________________________________________\n",
      "block4_conv3 (Conv2D)        (None, 28, 28, 512)       2359808   \n",
      "_________________________________________________________________\n",
      "block4_pool (MaxPooling2D)   (None, 14, 14, 512)       0         \n",
      "_________________________________________________________________\n",
      "block5_conv1 (Conv2D)        (None, 14, 14, 512)       2359808   \n",
      "_________________________________________________________________\n",
      "block5_conv2 (Conv2D)        (None, 14, 14, 512)       2359808   \n",
      "_________________________________________________________________\n",
      "block5_conv3 (Conv2D)        (None, 14, 14, 512)       2359808   \n",
      "_________________________________________________________________\n",
      "block5_pool (MaxPooling2D)   (None, 7, 7, 512)         0         \n",
      "_________________________________________________________________\n",
      "global_average_pooling2d_1 ( (None, 512)               0         \n",
      "_________________________________________________________________\n",
      "dropout_1 (Dropout)          (None, 512)               0         \n",
      "_________________________________________________________________\n",
      "mypredictions (Dense)        (None, 10)                5130      \n",
      "=================================================================\n",
      "Total params: 14,719,818\n",
      "Trainable params: 14,719,818\n",
      "Non-trainable params: 0\n",
      "_________________________________________________________________\n"
     ]
    }
   ],
   "source": [
    "base_model = VGG16\n",
    "model = create_model(b_model=base_model, n_classes = 10, set_weights = None, locked_layers=locked_layers, input_shape=(224,224,3), include_top=False)   \n",
    "model.summary()\n"
   ]
  },
  {
   "cell_type": "code",
   "execution_count": 8,
   "metadata": {},
   "outputs": [
    {
     "name": "stdout",
     "output_type": "stream",
     "text": [
      "True\n",
      "True\n",
      "True\n",
      "True\n",
      "True\n",
      "True\n",
      "True\n",
      "True\n",
      "True\n",
      "True\n",
      "True\n",
      "True\n",
      "True\n",
      "True\n",
      "True\n",
      "True\n",
      "True\n",
      "True\n",
      "True\n",
      "True\n",
      "True\n",
      "True\n"
     ]
    }
   ],
   "source": [
    "for layer in model.layers:\n",
    "    print(layer.trainable)"
   ]
  },
  {
   "cell_type": "code",
   "execution_count": 5,
   "metadata": {},
   "outputs": [],
   "source": [
    "batch_size = 128\n",
    "n_epoch = 100\n",
    "learning_rate = 0.01\n",
    "locked_layers = 0"
   ]
  },
  {
   "cell_type": "code",
   "execution_count": 5,
   "metadata": {},
   "outputs": [
    {
     "name": "stderr",
     "output_type": "stream",
     "text": [
      "100%|██████████| 2489/2489 [00:12<00:00, 196.68it/s]\n",
      "100%|██████████| 2267/2267 [00:11<00:00, 204.58it/s]\n",
      "100%|██████████| 2317/2317 [00:11<00:00, 206.88it/s]\n",
      "100%|██████████| 2346/2346 [00:11<00:00, 205.02it/s]\n",
      "100%|██████████| 2326/2326 [00:11<00:00, 205.21it/s]\n",
      "100%|██████████| 2312/2312 [00:11<00:00, 204.58it/s]\n",
      "100%|██████████| 2325/2325 [00:11<00:00, 203.94it/s]\n",
      "100%|██████████| 2002/2002 [00:09<00:00, 205.16it/s]\n",
      "100%|██████████| 1911/1911 [00:09<00:00, 207.62it/s]\n",
      "100%|██████████| 2129/2129 [00:10<00:00, 206.67it/s]\n"
     ]
    },
    {
     "name": "stdout",
     "output_type": "stream",
     "text": [
      "X_train shape: (17939, 224, 224, 3)\n",
      "y_train shape: (17939, 10)\n",
      "X_val shape: (4485, 224, 224, 3)\n",
      "y_val shape: (4485, 10)\n"
     ]
    }
   ],
   "source": [
    "trian_set_path=os.path.join('datasets','train')\n",
    "\n",
    "X, y = load_train_data(trian_set_path,size = (224,224))\n",
    "X_train, X_val, y_train, y_val = train_test_split(X, y, test_size=0.2, random_state=35)\n",
    "\n",
    "# One hot encoding of the classes\n",
    "y_train = to_categorical(y_train)\n",
    "y_val = to_categorical(y_val)\n",
    "\n",
    "print('X_train shape:', X_train.shape)\n",
    "print('y_train shape:', y_train.shape)#\n",
    "print('X_val shape:', X_val.shape)\n",
    "print('y_val shape:', y_val.shape)"
   ]
  },
  {
   "cell_type": "code",
   "execution_count": 22,
   "metadata": {
    "scrolled": true
   },
   "outputs": [
    {
     "name": "stdout",
     "output_type": "stream",
     "text": [
      "Train on 17939 samples, validate on 4485 samples\n",
      "Epoch 1/100\n",
      "17939/17939 [==============================] - 96s 5ms/step - loss: 14.5021 - acc: 0.0955 - val_loss: 14.4829 - val_acc: 0.1014\n",
      "\n",
      "Epoch 00001: val_loss improved from inf to 14.48293, saving model to saved_models/vgg16weights.01-14.48.hdf5\n",
      "Epoch 2/100\n",
      "17939/17939 [==============================] - 93s 5ms/step - loss: 14.5942 - acc: 0.0945 - val_loss: 14.4829 - val_acc: 0.1014\n",
      "\n",
      "Epoch 00002: val_loss did not improve from 14.48293\n",
      "Epoch 3/100\n",
      "17939/17939 [==============================] - 93s 5ms/step - loss: 14.5520 - acc: 0.0972 - val_loss: 14.4829 - val_acc: 0.1014\n",
      "\n",
      "Epoch 00003: val_loss did not improve from 14.48293\n",
      "Epoch 4/100\n",
      "17939/17939 [==============================] - 93s 5ms/step - loss: 14.5538 - acc: 0.0971 - val_loss: 14.4829 - val_acc: 0.1014\n",
      "\n",
      "Epoch 00004: val_loss did not improve from 14.48293\n",
      "Training time: 383\n"
     ]
    },
    {
     "data": {
      "image/png": "[encoded data removed]",
      "text/plain": [
       "<Figure size 432x288 with 1 Axes>"
      ]
     },
     "metadata": {},
     "output_type": "display_data"
    }
   ],
   "source": [
    "reduce_lr2 = ReduceLROnPlateau(monitor='val_loss', patience=3, mode='auto') \n",
    "early_stopping = EarlyStopping(monitor='val_loss', patience=3)\n",
    "\n",
    "if not os.path.isdir('saved_models'):\n",
    "    os.mkdir('saved_models')\n",
    "    \n",
    "#models = [VGG16,InceptionResNetV2,Xception,InceptionV3]\n",
    "#models = [VGG16,InceptionResNetV2,Xception]\n",
    "base_model = VGG16\n",
    "#for i in models:\n",
    "model = create_model(b_model=base_model, n_classes = 10, set_weights = None, locked_layers=locked_layers, input_shape=(224,224,3), include_top=False)   \n",
    "    #weights_path = os.path.join('saved_models',model.name+'.weights.best.hdf5')\n",
    "weights_path = os.path.join('saved_models',model.name+'weights.{epoch:02d}-{val_loss:.2f}.hdf5')\n",
    "checkpointer = ModelCheckpoint(filepath=weights_path, verbose=1, save_best_only=True)\n",
    "\n",
    "s1 = time()\n",
    "history = model.fit(image_preprocess(model.name, X_train), y_train, \n",
    "                    validation_data=(image_preprocess(model.name, X_val), y_val), \n",
    "                    epochs=n_epoch, batch_size=batch_size, callbacks=[checkpointer, early_stopping, reduce_lr2], verbose=1)\n",
    "print(\"Training time: %d\"%(time()-s1))\n",
    "\n",
    "plt.plot(history.history['acc'])\n",
    "plt.plot(history.history['val_acc'])\n",
    "plt.title('model accuracy')  \n",
    "plt.ylabel('accuracy')\n",
    "plt.xlabel('epoch')\n",
    "plt.legend(['train', 'test'], loc='upper left')\n",
    "# plt.show()\n",
    "plt.savefig(os.path.join('saved_models',model.name+'_acc.jpg'))\n",
    "    \n",
    "save_model(model, cross=model.name)\n"
   ]
  },
  {
   "cell_type": "code",
   "execution_count": null,
   "metadata": {
    "scrolled": true
   },
   "outputs": [],
   "source": [
    "\n",
    "\n"
   ]
  },
  {
   "cell_type": "code",
   "execution_count": null,
   "metadata": {},
   "outputs": [],
   "source": []
  },
  {
   "cell_type": "code",
   "execution_count": null,
   "metadata": {},
   "outputs": [],
   "source": []
  },
  {
   "cell_type": "code",
   "execution_count": null,
   "metadata": {},
   "outputs": [],
   "source": []
  },
  {
   "cell_type": "code",
   "execution_count": null,
   "metadata": {},
   "outputs": [],
   "source": []
  }
 ],
 "metadata": {
  "kernelspec": {
   "display_name": "Python 3",
   "language": "python",
   "name": "python3"
  },
  "language_info": {
   "codemirror_mode": {
    "name": "ipython",
    "version": 3
   },
   "file_extension": ".py",
   "mimetype": "text/x-python",
   "name": "python",
   "nbconvert_exporter": "python",
   "pygments_lexer": "ipython3",
   "version": "3.6.5"
  }
 },
 "nbformat": 4,
 "nbformat_minor": 2
}
